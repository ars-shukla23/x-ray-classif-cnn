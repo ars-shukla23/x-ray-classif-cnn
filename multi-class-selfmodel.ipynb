{
 "cells": [
  {
   "cell_type": "code",
   "execution_count": 2,
   "id": "0f54417f-a159-4830-b7cc-1fff8424dc0d",
   "metadata": {},
   "outputs": [],
   "source": [
    "import os\n",
    "import cv2\n",
    "import numpy as np\n",
    "import pandas as pd\n",
    "from sklearn.model_selection import train_test_split\n",
    "from sklearn.preprocessing import LabelEncoder\n",
    "from tensorflow.keras.preprocessing.image import ImageDataGenerator\n",
    "from tensorflow.keras.applications.vgg16 import VGG16\n",
    "from tensorflow.keras import layers, models\n"
   ]
  },
  {
   "cell_type": "code",
   "execution_count": 3,
   "id": "b6eb4100-5e9b-47e0-9332-a3d806f53f42",
   "metadata": {},
   "outputs": [],
   "source": [
    "df = pd.read_csv('../Data/sample_labels.csv')\n",
    "df = df[['Image Index', 'Finding Labels']]\n"
   ]
  },
  {
   "cell_type": "code",
   "execution_count": 4,
   "id": "0447219c-8fa1-4422-8236-a9e656c14d44",
   "metadata": {},
   "outputs": [],
   "source": [
    "label_encoder = LabelEncoder()\n",
    "df['Labels'] = label_encoder.fit_transform(df['Finding Labels'])"
   ]
  },
  {
   "cell_type": "code",
   "execution_count": 5,
   "id": "825ea458-ca9b-4be6-a47f-e20cadef0c5e",
   "metadata": {},
   "outputs": [],
   "source": [
    "train_df, test_df = train_test_split(df, test_size=0.2, random_state=42)"
   ]
  },
  {
   "cell_type": "code",
   "execution_count": 6,
   "id": "a9da29ab-954f-40d1-9282-c10519f1dbe5",
   "metadata": {},
   "outputs": [],
   "source": [
    "#Image folders and paths\n",
    "image_folder = '../Data/images2'\n",
    "train_image_paths = [os.path.join(image_folder, img) for img in train_df['Image Index']]\n",
    "test_image_paths = [os.path.join(image_folder, img) for img in test_df['Image Index']]\n"
   ]
  },
  {
   "cell_type": "code",
   "execution_count": 7,
   "id": "78c20228-fa71-4049-b7c4-47b644c358d9",
   "metadata": {},
   "outputs": [],
   "source": [
    "train_datagen = ImageDataGenerator(\n",
    "    rescale=1./255,\n",
    "    shear_range=0.2,\n",
    "    zoom_range=0.2,\n",
    "    horizontal_flip=True,\n",
    "    rotation_range=20\n",
    ")"
   ]
  },
  {
   "cell_type": "code",
   "execution_count": 8,
   "id": "97b53b18-664c-4ec7-aa56-7ef2437288c7",
   "metadata": {},
   "outputs": [],
   "source": [
    "test_datagen = ImageDataGenerator(rescale=1./255)"
   ]
  },
  {
   "cell_type": "code",
   "execution_count": 9,
   "id": "8d001732-c005-4bb7-9659-09be474874fb",
   "metadata": {},
   "outputs": [],
   "source": [
    "from tensorflow.keras.utils import to_categorical\n",
    "\n",
    "num_classes = len(label_encoder.classes_)\n",
    "train_labels_onehot = to_categorical(train_df['Labels'], num_classes=num_classes)\n",
    "test_labels_onehot = to_categorical(test_df['Labels'], num_classes=num_classes)\n"
   ]
  },
  {
   "cell_type": "code",
   "execution_count": 10,
   "id": "55e165a7-add1-48a9-9b93-80768dca8b43",
   "metadata": {},
   "outputs": [
    {
     "name": "stdout",
     "output_type": "stream",
     "text": [
      "Found 4484 validated image filenames.\n"
     ]
    }
   ],
   "source": [
    "train_generator = train_datagen.flow_from_dataframe(\n",
    "    dataframe=train_df,\n",
    "    directory=image_folder,\n",
    "    x_col='Image Index',\n",
    "    y_col='Labels',\n",
    "    target_size=(224, 224),\n",
    "    batch_size=15,\n",
    "    class_mode='raw',\n",
    "    shuffle=True\n",
    ")"
   ]
  },
  {
   "cell_type": "code",
   "execution_count": 11,
   "id": "8f255357-2dde-4ccd-b9ee-2a128c3c164b",
   "metadata": {},
   "outputs": [
    {
     "name": "stdout",
     "output_type": "stream",
     "text": [
      "Found 1122 validated image filenames.\n"
     ]
    }
   ],
   "source": [
    "test_generator = test_datagen.flow_from_dataframe(\n",
    "    dataframe=test_df,\n",
    "    directory=image_folder,\n",
    "    x_col='Image Index',\n",
    "    y_col='Labels',\n",
    "    target_size=(224, 224),\n",
    "    batch_size=15,\n",
    "    class_mode='raw',\n",
    ")"
   ]
  },
  {
   "cell_type": "code",
   "execution_count": 13,
   "id": "fb34366b-c8b5-4ed8-8050-ddf9e019ca33",
   "metadata": {},
   "outputs": [],
   "source": [
    "model = models.Sequential([\n",
    "    layers.Conv2D(32, (3, 3), activation='relu', input_shape=(224, 224, 3)),\n",
    "    layers.MaxPooling2D((2, 2)),\n",
    "    layers.Conv2D(64, (3, 3), activation='relu'),\n",
    "    layers.MaxPooling2D((2, 2)),\n",
    "    layers.Conv2D(128, (3, 3), activation='relu'),\n",
    "    layers.MaxPooling2D((2, 2)),\n",
    "    layers.Flatten(),\n",
    "    layers.Dense(256, activation='relu'),\n",
    "    layers.Dropout(0.4),\n",
    "    layers.Dense(len(label_encoder.classes_), activation='softmax')\n",
    "])"
   ]
  },
  {
   "cell_type": "code",
   "execution_count": 14,
   "id": "4a2cd175-1764-4485-92a2-2534a8d0bf52",
   "metadata": {},
   "outputs": [],
   "source": [
    "from keras import optimizers\n",
    "optm = optimizers.Adam(learning_rate=0.001)\n",
    "model.compile(optimizer=optm, loss='sparse_categorical_crossentropy', metrics=['accuracy'])"
   ]
  },
  {
   "cell_type": "code",
   "execution_count": 15,
   "id": "85b294ba-8ab9-47e4-95b2-74ba95125000",
   "metadata": {},
   "outputs": [
    {
     "name": "stdout",
     "output_type": "stream",
     "text": [
      "Epoch 1/4\n"
     ]
    },
    {
     "name": "stderr",
     "output_type": "stream",
     "text": [
      "2023-12-12 05:54:27.750906: I external/local_xla/xla/stream_executor/cuda/cuda_dnn.cc:454] Loaded cuDNN version 8904\n",
      "2023-12-12 05:54:28.529726: I external/local_xla/xla/service/service.cc:168] XLA service 0x7f8410013fa0 initialized for platform CUDA (this does not guarantee that XLA will be used). Devices:\n",
      "2023-12-12 05:54:28.529746: I external/local_xla/xla/service/service.cc:176]   StreamExecutor device (0): NVIDIA GeForce RTX 4070, Compute Capability 8.9\n",
      "2023-12-12 05:54:28.534399: I tensorflow/compiler/mlir/tensorflow/utils/dump_mlir_util.cc:269] disabling MLIR crash reproducer, set env var `MLIR_CRASH_REPRODUCER_DIRECTORY` to enable.\n",
      "WARNING: All log messages before absl::InitializeLog() is called are written to STDERR\n",
      "I0000 00:00:1702340668.607592   10944 device_compiler.h:186] Compiled cluster using XLA!  This line is logged at most once for the lifetime of the process.\n"
     ]
    },
    {
     "name": "stdout",
     "output_type": "stream",
     "text": [
      "299/299 [==============================] - 78s 251ms/step - loss: 2.6847 - accuracy: 0.5401 - val_loss: 2.4645 - val_accuracy: 0.5401\n",
      "Epoch 2/4\n",
      "299/299 [==============================] - 73s 245ms/step - loss: 2.4764 - accuracy: 0.5437 - val_loss: 2.4610 - val_accuracy: 0.5401\n",
      "Epoch 3/4\n",
      "299/299 [==============================] - 74s 247ms/step - loss: 2.4484 - accuracy: 0.5437 - val_loss: 2.4801 - val_accuracy: 0.5401\n",
      "Epoch 4/4\n",
      "299/299 [==============================] - 74s 248ms/step - loss: 2.4298 - accuracy: 0.5437 - val_loss: 2.5677 - val_accuracy: 0.5401\n"
     ]
    }
   ],
   "source": [
    "history = model.fit(\n",
    "    train_generator,\n",
    "    epochs=4,\n",
    "    validation_data=test_generator\n",
    ")\n"
   ]
  },
  {
   "cell_type": "code",
   "execution_count": 16,
   "id": "86c0b54d-f7bb-4c7d-8d10-9bcc7f01791f",
   "metadata": {},
   "outputs": [
    {
     "name": "stdout",
     "output_type": "stream",
     "text": [
      "75/75 [==============================] - 10s 134ms/step - loss: 2.5677 - accuracy: 0.5401\n",
      "Test Accuracy: 54.01%\n",
      "Test Loss: 2.5677\n"
     ]
    }
   ],
   "source": [
    "test_loss, test_accuracy = model.evaluate(test_generator)\n",
    "print(f'Test Accuracy: {test_accuracy * 100:.2f}%')\n",
    "print(f'Test Loss: {test_loss:.4f}')\n"
   ]
  },
  {
   "cell_type": "code",
   "execution_count": 17,
   "id": "5f90c7fb-b087-4956-af46-f63be0b643ca",
   "metadata": {},
   "outputs": [
    {
     "name": "stdout",
     "output_type": "stream",
     "text": [
      "75/75 [==============================] - 10s 135ms/step\n",
      "True Class: 234, Predicted Class: No Finding\n",
      "True Class: 234, Predicted Class: No Finding\n",
      "True Class: 227, Predicted Class: No Finding\n",
      "True Class: 234, Predicted Class: No Finding\n",
      "True Class: 133, Predicted Class: No Finding\n",
      "True Class: 234, Predicted Class: No Finding\n",
      "True Class: 234, Predicted Class: No Finding\n",
      "True Class: 200, Predicted Class: No Finding\n",
      "True Class: 234, Predicted Class: No Finding\n",
      "True Class: 234, Predicted Class: No Finding\n",
      "True Class: 213, Predicted Class: No Finding\n",
      "True Class: 234, Predicted Class: No Finding\n",
      "True Class: 234, Predicted Class: No Finding\n",
      "True Class: 213, Predicted Class: No Finding\n",
      "True Class: 0, Predicted Class: No Finding\n",
      "True Class: 162, Predicted Class: No Finding\n",
      "True Class: 234, Predicted Class: No Finding\n",
      "True Class: 235, Predicted Class: No Finding\n",
      "True Class: 234, Predicted Class: No Finding\n",
      "True Class: 234, Predicted Class: No Finding\n",
      "True Class: 234, Predicted Class: No Finding\n",
      "True Class: 133, Predicted Class: No Finding\n",
      "True Class: 234, Predicted Class: No Finding\n",
      "True Class: 238, Predicted Class: No Finding\n",
      "True Class: 154, Predicted Class: No Finding\n",
      "True Class: 213, Predicted Class: No Finding\n",
      "True Class: 213, Predicted Class: No Finding\n",
      "True Class: 234, Predicted Class: No Finding\n",
      "True Class: 213, Predicted Class: No Finding\n",
      "True Class: 120, Predicted Class: No Finding\n",
      "True Class: 234, Predicted Class: No Finding\n",
      "True Class: 234, Predicted Class: No Finding\n",
      "True Class: 234, Predicted Class: No Finding\n",
      "True Class: 234, Predicted Class: No Finding\n",
      "True Class: 234, Predicted Class: No Finding\n",
      "True Class: 235, Predicted Class: No Finding\n",
      "True Class: 234, Predicted Class: No Finding\n",
      "True Class: 234, Predicted Class: No Finding\n",
      "True Class: 235, Predicted Class: No Finding\n",
      "True Class: 243, Predicted Class: No Finding\n",
      "True Class: 234, Predicted Class: No Finding\n",
      "True Class: 234, Predicted Class: No Finding\n",
      "True Class: 234, Predicted Class: No Finding\n",
      "True Class: 69, Predicted Class: No Finding\n",
      "True Class: 106, Predicted Class: No Finding\n",
      "True Class: 234, Predicted Class: No Finding\n",
      "True Class: 234, Predicted Class: No Finding\n",
      "True Class: 243, Predicted Class: No Finding\n",
      "True Class: 95, Predicted Class: No Finding\n",
      "True Class: 234, Predicted Class: No Finding\n",
      "True Class: 234, Predicted Class: No Finding\n",
      "True Class: 234, Predicted Class: No Finding\n",
      "True Class: 234, Predicted Class: No Finding\n",
      "True Class: 69, Predicted Class: No Finding\n",
      "True Class: 213, Predicted Class: No Finding\n",
      "True Class: 154, Predicted Class: No Finding\n",
      "True Class: 42, Predicted Class: No Finding\n",
      "True Class: 141, Predicted Class: No Finding\n",
      "True Class: 234, Predicted Class: No Finding\n",
      "True Class: 234, Predicted Class: No Finding\n",
      "True Class: 234, Predicted Class: No Finding\n",
      "True Class: 92, Predicted Class: No Finding\n",
      "True Class: 132, Predicted Class: No Finding\n",
      "True Class: 37, Predicted Class: No Finding\n",
      "True Class: 121, Predicted Class: No Finding\n",
      "True Class: 243, Predicted Class: No Finding\n",
      "True Class: 234, Predicted Class: No Finding\n",
      "True Class: 38, Predicted Class: No Finding\n",
      "True Class: 234, Predicted Class: No Finding\n",
      "True Class: 234, Predicted Class: No Finding\n",
      "True Class: 213, Predicted Class: No Finding\n",
      "True Class: 213, Predicted Class: No Finding\n",
      "True Class: 234, Predicted Class: No Finding\n",
      "True Class: 234, Predicted Class: No Finding\n",
      "True Class: 234, Predicted Class: No Finding\n",
      "True Class: 154, Predicted Class: No Finding\n",
      "True Class: 234, Predicted Class: No Finding\n",
      "True Class: 234, Predicted Class: No Finding\n",
      "True Class: 234, Predicted Class: No Finding\n",
      "True Class: 154, Predicted Class: No Finding\n",
      "True Class: 234, Predicted Class: No Finding\n",
      "True Class: 234, Predicted Class: No Finding\n",
      "True Class: 234, Predicted Class: No Finding\n",
      "True Class: 213, Predicted Class: No Finding\n",
      "True Class: 234, Predicted Class: No Finding\n",
      "True Class: 235, Predicted Class: No Finding\n",
      "True Class: 154, Predicted Class: No Finding\n",
      "True Class: 234, Predicted Class: No Finding\n",
      "True Class: 0, Predicted Class: No Finding\n",
      "True Class: 157, Predicted Class: No Finding\n",
      "True Class: 234, Predicted Class: No Finding\n",
      "True Class: 213, Predicted Class: No Finding\n",
      "True Class: 127, Predicted Class: No Finding\n",
      "True Class: 234, Predicted Class: No Finding\n",
      "True Class: 235, Predicted Class: No Finding\n",
      "True Class: 234, Predicted Class: No Finding\n",
      "True Class: 243, Predicted Class: No Finding\n",
      "True Class: 234, Predicted Class: No Finding\n",
      "True Class: 234, Predicted Class: No Finding\n",
      "True Class: 234, Predicted Class: No Finding\n",
      "True Class: 79, Predicted Class: No Finding\n",
      "True Class: 234, Predicted Class: No Finding\n",
      "True Class: 234, Predicted Class: No Finding\n",
      "True Class: 78, Predicted Class: No Finding\n",
      "True Class: 106, Predicted Class: No Finding\n",
      "True Class: 234, Predicted Class: No Finding\n",
      "True Class: 234, Predicted Class: No Finding\n",
      "True Class: 234, Predicted Class: No Finding\n",
      "True Class: 234, Predicted Class: No Finding\n",
      "True Class: 234, Predicted Class: No Finding\n",
      "True Class: 106, Predicted Class: No Finding\n",
      "True Class: 0, Predicted Class: No Finding\n",
      "True Class: 234, Predicted Class: No Finding\n",
      "True Class: 234, Predicted Class: No Finding\n",
      "True Class: 219, Predicted Class: No Finding\n",
      "True Class: 128, Predicted Class: No Finding\n",
      "True Class: 234, Predicted Class: No Finding\n",
      "True Class: 234, Predicted Class: No Finding\n",
      "True Class: 234, Predicted Class: No Finding\n",
      "True Class: 234, Predicted Class: No Finding\n",
      "True Class: 213, Predicted Class: No Finding\n",
      "True Class: 154, Predicted Class: No Finding\n",
      "True Class: 234, Predicted Class: No Finding\n",
      "True Class: 234, Predicted Class: No Finding\n",
      "True Class: 234, Predicted Class: No Finding\n",
      "True Class: 235, Predicted Class: No Finding\n",
      "True Class: 234, Predicted Class: No Finding\n",
      "True Class: 81, Predicted Class: No Finding\n",
      "True Class: 234, Predicted Class: No Finding\n",
      "True Class: 0, Predicted Class: No Finding\n",
      "True Class: 139, Predicted Class: No Finding\n",
      "True Class: 0, Predicted Class: No Finding\n",
      "True Class: 162, Predicted Class: No Finding\n",
      "True Class: 234, Predicted Class: No Finding\n",
      "True Class: 234, Predicted Class: No Finding\n",
      "True Class: 213, Predicted Class: No Finding\n",
      "True Class: 243, Predicted Class: No Finding\n",
      "True Class: 234, Predicted Class: No Finding\n",
      "True Class: 234, Predicted Class: No Finding\n",
      "True Class: 38, Predicted Class: No Finding\n",
      "True Class: 234, Predicted Class: No Finding\n",
      "True Class: 154, Predicted Class: No Finding\n",
      "True Class: 234, Predicted Class: No Finding\n",
      "True Class: 146, Predicted Class: No Finding\n",
      "True Class: 234, Predicted Class: No Finding\n",
      "True Class: 234, Predicted Class: No Finding\n",
      "True Class: 213, Predicted Class: No Finding\n",
      "True Class: 234, Predicted Class: No Finding\n",
      "True Class: 234, Predicted Class: No Finding\n",
      "True Class: 234, Predicted Class: No Finding\n",
      "True Class: 80, Predicted Class: No Finding\n",
      "True Class: 234, Predicted Class: No Finding\n",
      "True Class: 154, Predicted Class: No Finding\n",
      "True Class: 234, Predicted Class: No Finding\n",
      "True Class: 234, Predicted Class: No Finding\n",
      "True Class: 74, Predicted Class: No Finding\n",
      "True Class: 234, Predicted Class: No Finding\n",
      "True Class: 234, Predicted Class: No Finding\n",
      "True Class: 234, Predicted Class: No Finding\n",
      "True Class: 234, Predicted Class: No Finding\n",
      "True Class: 225, Predicted Class: No Finding\n",
      "True Class: 234, Predicted Class: No Finding\n",
      "True Class: 180, Predicted Class: No Finding\n",
      "True Class: 213, Predicted Class: No Finding\n",
      "True Class: 200, Predicted Class: No Finding\n",
      "True Class: 234, Predicted Class: No Finding\n",
      "True Class: 199, Predicted Class: No Finding\n",
      "True Class: 234, Predicted Class: No Finding\n",
      "True Class: 234, Predicted Class: No Finding\n",
      "True Class: 239, Predicted Class: No Finding\n",
      "True Class: 81, Predicted Class: No Finding\n",
      "True Class: 234, Predicted Class: No Finding\n",
      "True Class: 234, Predicted Class: No Finding\n",
      "True Class: 235, Predicted Class: No Finding\n",
      "True Class: 234, Predicted Class: No Finding\n",
      "True Class: 234, Predicted Class: No Finding\n",
      "True Class: 69, Predicted Class: No Finding\n",
      "True Class: 219, Predicted Class: No Finding\n",
      "True Class: 38, Predicted Class: No Finding\n",
      "True Class: 234, Predicted Class: No Finding\n",
      "True Class: 234, Predicted Class: No Finding\n",
      "True Class: 0, Predicted Class: No Finding\n",
      "True Class: 106, Predicted Class: No Finding\n",
      "True Class: 234, Predicted Class: No Finding\n",
      "True Class: 234, Predicted Class: No Finding\n",
      "True Class: 240, Predicted Class: No Finding\n",
      "True Class: 234, Predicted Class: No Finding\n",
      "True Class: 234, Predicted Class: No Finding\n",
      "True Class: 234, Predicted Class: No Finding\n",
      "True Class: 234, Predicted Class: No Finding\n",
      "True Class: 213, Predicted Class: No Finding\n",
      "True Class: 234, Predicted Class: No Finding\n",
      "True Class: 213, Predicted Class: No Finding\n",
      "True Class: 234, Predicted Class: No Finding\n",
      "True Class: 234, Predicted Class: No Finding\n",
      "True Class: 235, Predicted Class: No Finding\n",
      "True Class: 45, Predicted Class: No Finding\n",
      "True Class: 140, Predicted Class: No Finding\n",
      "True Class: 213, Predicted Class: No Finding\n",
      "True Class: 234, Predicted Class: No Finding\n"
     ]
    }
   ],
   "source": [
    "predictions = model.predict(test_generator)\n",
    "predicted_labels = np.argmax(predictions, axis=1)\n",
    "predicted_classes = label_encoder.inverse_transform(predicted_labels)\n",
    "true_classes = test_df['Labels'].values\n",
    "\n",
    "for i in range(200):\n",
    "    print(f\"True Class: {true_classes[i]}, Predicted Class: {predicted_classes[i]}\")\n",
    "\n"
   ]
  },
  {
   "cell_type": "code",
   "execution_count": null,
   "id": "9f4aba82-56da-4050-84a4-6c28c83a87c3",
   "metadata": {},
   "outputs": [],
   "source": []
  }
 ],
 "metadata": {
  "kernelspec": {
   "display_name": "Python (GPU)",
   "language": "python",
   "name": "base"
  },
  "language_info": {
   "codemirror_mode": {
    "name": "ipython",
    "version": 3
   },
   "file_extension": ".py",
   "mimetype": "text/x-python",
   "name": "python",
   "nbconvert_exporter": "python",
   "pygments_lexer": "ipython3",
   "version": "3.11.5"
  }
 },
 "nbformat": 4,
 "nbformat_minor": 5
}
