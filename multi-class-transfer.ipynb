{
 "cells": [
  {
   "cell_type": "code",
   "execution_count": 1,
   "id": "d7b299f6-4f3a-4040-91d1-24d6fdb3bbd3",
   "metadata": {},
   "outputs": [
    {
     "name": "stderr",
     "output_type": "stream",
     "text": [
      "2023-12-11 14:46:40.663402: E external/local_xla/xla/stream_executor/cuda/cuda_dnn.cc:9261] Unable to register cuDNN factory: Attempting to register factory for plugin cuDNN when one has already been registered\n",
      "2023-12-11 14:46:40.663454: E external/local_xla/xla/stream_executor/cuda/cuda_fft.cc:607] Unable to register cuFFT factory: Attempting to register factory for plugin cuFFT when one has already been registered\n",
      "2023-12-11 14:46:40.697040: E external/local_xla/xla/stream_executor/cuda/cuda_blas.cc:1515] Unable to register cuBLAS factory: Attempting to register factory for plugin cuBLAS when one has already been registered\n",
      "2023-12-11 14:46:40.767289: I tensorflow/core/platform/cpu_feature_guard.cc:182] This TensorFlow binary is optimized to use available CPU instructions in performance-critical operations.\n",
      "To enable the following instructions: AVX2 FMA, in other operations, rebuild TensorFlow with the appropriate compiler flags.\n",
      "2023-12-11 14:46:41.567626: W tensorflow/compiler/tf2tensorrt/utils/py_utils.cc:38] TF-TRT Warning: Could not find TensorRT\n"
     ]
    }
   ],
   "source": [
    "import os\n",
    "import cv2\n",
    "import numpy as np\n",
    "import pandas as pd\n",
    "from sklearn.model_selection import train_test_split\n",
    "from sklearn.preprocessing import LabelEncoder\n",
    "from sklearn.utils import shuffle\n",
    "\n",
    "import tensorflow as tf\n",
    "from tensorflow.keras import layers, models\n",
    "import joblib"
   ]
  },
  {
   "cell_type": "code",
   "execution_count": 2,
   "id": "62549dbf-4389-450e-979f-cb67d967d9f8",
   "metadata": {},
   "outputs": [
    {
     "data": {
      "text/plain": [
       "['label_encoder.joblib']"
      ]
     },
     "execution_count": 2,
     "metadata": {},
     "output_type": "execute_result"
    }
   ],
   "source": [
    "df = pd.read_csv('../Data/sample_labels.csv')\n",
    "df = df[['Image Index', 'Finding Labels']]\n",
    "df['Diseases'] = df['Finding Labels'].apply(lambda x: x.split('|'))\n",
    "label_encoder = LabelEncoder()\n",
    "df['Labels'] = label_encoder.fit_transform(df['Finding Labels'])\n",
    "joblib.dump(label_encoder, 'label_encoder.joblib')\n"
   ]
  },
  {
   "cell_type": "code",
   "execution_count": 3,
   "id": "6e35a718-dd1f-414d-a539-4e0fbc5db526",
   "metadata": {},
   "outputs": [],
   "source": [
    "train_df, test_df = train_test_split(df, test_size=0.2, random_state=42)\n"
   ]
  },
  {
   "cell_type": "code",
   "execution_count": 4,
   "id": "6a1410ae-ef71-47c1-b8aa-365130916e74",
   "metadata": {},
   "outputs": [],
   "source": [
    "def load_and_preprocess_images(image_paths, labels):\n",
    "    images = []\n",
    "    for path, label in zip(image_paths, labels):\n",
    "        img = cv2.imread(path)\n",
    "        img = cv2.cvtColor(img, cv2.COLOR_BGR2RGB)\n",
    "        img = cv2.resize(img, (224, 224))\n",
    "        img = img / 255.0\n",
    "        images.append(img)\n",
    "    return np.array(images), labels\n"
   ]
  },
  {
   "cell_type": "code",
   "execution_count": 5,
   "id": "f660fac9-e3bd-47ff-96aa-b76bd63881f8",
   "metadata": {},
   "outputs": [],
   "source": [
    "def construct_image_paths(image_folder, image_indices):\n",
    "    return [os.path.join(image_folder, img) for img in image_indices]\n"
   ]
  },
  {
   "cell_type": "code",
   "execution_count": 6,
   "id": "8f77ef06-ced7-426d-b9a8-b454ba6c5b02",
   "metadata": {},
   "outputs": [],
   "source": [
    "image_folder = '../Data/images2'\n",
    "\n",
    "train_image_paths = construct_image_paths(image_folder, train_df['Image Index'])\n",
    "test_image_paths = construct_image_paths(image_folder, test_df['Image Index'])\n"
   ]
  },
  {
   "cell_type": "code",
   "execution_count": 7,
   "id": "ec592f96-a0dc-46cb-bbea-f6e4868c9617",
   "metadata": {},
   "outputs": [],
   "source": [
    "train_datagen = tf.keras.preprocessing.image.ImageDataGenerator(\n",
    "    rescale=1./255,\n",
    "    shear_range=0.2,\n",
    "    zoom_range=0.2,\n",
    "    horizontal_flip=True,\n",
    "    validation_split=0.2\n",
    ")\n"
   ]
  },
  {
   "cell_type": "code",
   "execution_count": 8,
   "id": "c45bc538-40e8-404b-be84-824d7d5f151a",
   "metadata": {},
   "outputs": [
    {
     "name": "stdout",
     "output_type": "stream",
     "text": [
      "Found 3588 validated image filenames.\n"
     ]
    }
   ],
   "source": [
    "train_generator = train_datagen.flow_from_dataframe(\n",
    "    dataframe=train_df,\n",
    "    directory=image_folder,\n",
    "    x_col=\"Image Index\",\n",
    "    y_col=\"Labels\",\n",
    "    target_size=(224, 224),\n",
    "    batch_size=10, \n",
    "    class_mode=\"raw\",\n",
    "    subset=\"training\"\n",
    ")"
   ]
  },
  {
   "cell_type": "code",
   "execution_count": 9,
   "id": "6d43dc42-e5fc-4103-bc33-37e16d1be34c",
   "metadata": {},
   "outputs": [
    {
     "name": "stdout",
     "output_type": "stream",
     "text": [
      "Found 896 validated image filenames.\n"
     ]
    }
   ],
   "source": [
    "validation_generator = train_datagen.flow_from_dataframe(\n",
    "    dataframe=train_df,\n",
    "    directory=image_folder,\n",
    "    x_col=\"Image Index\",\n",
    "    y_col=\"Labels\",\n",
    "    target_size=(224, 224),\n",
    "    batch_size=10,  \n",
    "    class_mode=\"raw\",\n",
    "    subset=\"validation\"\n",
    ")"
   ]
  },
  {
   "cell_type": "code",
   "execution_count": 11,
   "id": "a9ac8acb-4b8e-47e7-bdde-cc33ac500bad",
   "metadata": {
    "scrolled": true
   },
   "outputs": [],
   "source": [
    "base_model = tf.keras.applications.VGG16(weights='imagenet', include_top=False, input_shape=(224, 224, 3))\n"
   ]
  },
  {
   "cell_type": "code",
   "execution_count": 12,
   "id": "42734484-1d31-48ad-8dd1-b020664fb261",
   "metadata": {},
   "outputs": [],
   "source": [
    "for layer in base_model.layers:\n",
    "    layer.trainable = False\n"
   ]
  },
  {
   "cell_type": "code",
   "execution_count": 13,
   "id": "2a130f60-3b4f-436b-80c4-c961595ea670",
   "metadata": {},
   "outputs": [],
   "source": [
    "model = models.Sequential([\n",
    "    base_model,\n",
    "    layers.Flatten(),\n",
    "    layers.Dense(256, activation='relu'),\n",
    "    layers.Dropout(0.5),\n",
    "    layers.Dense(len(label_encoder.classes_), activation='softmax')\n",
    "])\n"
   ]
  },
  {
   "cell_type": "code",
   "execution_count": 14,
   "id": "06030c12-5a34-415a-9034-46b742bac1d6",
   "metadata": {},
   "outputs": [],
   "source": [
    "model.compile(optimizer='adam', loss='sparse_categorical_crossentropy', metrics=['accuracy'])\n"
   ]
  },
  {
   "cell_type": "code",
   "execution_count": 15,
   "id": "5e845300-36a8-49ee-b5ce-004cbe62eb0a",
   "metadata": {},
   "outputs": [
    {
     "name": "stdout",
     "output_type": "stream",
     "text": [
      "Epoch 1/4\n"
     ]
    },
    {
     "name": "stderr",
     "output_type": "stream",
     "text": [
      "2023-12-11 14:47:08.384146: I external/local_xla/xla/stream_executor/cuda/cuda_dnn.cc:454] Loaded cuDNN version 8904\n",
      "2023-12-11 14:47:09.702119: I external/local_xla/xla/service/service.cc:168] XLA service 0x7f03e83034e0 initialized for platform CUDA (this does not guarantee that XLA will be used). Devices:\n",
      "2023-12-11 14:47:09.702137: I external/local_xla/xla/service/service.cc:176]   StreamExecutor device (0): NVIDIA GeForce RTX 4070, Compute Capability 8.9\n",
      "2023-12-11 14:47:09.711235: I tensorflow/compiler/mlir/tensorflow/utils/dump_mlir_util.cc:269] disabling MLIR crash reproducer, set env var `MLIR_CRASH_REPRODUCER_DIRECTORY` to enable.\n",
      "WARNING: All log messages before absl::InitializeLog() is called are written to STDERR\n",
      "I0000 00:00:1702286229.794761   29880 device_compiler.h:186] Compiled cluster using XLA!  This line is logged at most once for the lifetime of the process.\n"
     ]
    },
    {
     "name": "stdout",
     "output_type": "stream",
     "text": [
      "359/359 [==============================] - 67s 182ms/step - loss: 3.1553 - accuracy: 0.5125 - val_loss: 2.5123 - val_accuracy: 0.5301\n",
      "Epoch 2/4\n",
      "359/359 [==============================] - 65s 180ms/step - loss: 2.9137 - accuracy: 0.5463 - val_loss: 2.5557 - val_accuracy: 0.5301\n",
      "Epoch 3/4\n",
      "359/359 [==============================] - 64s 180ms/step - loss: 2.7733 - accuracy: 0.5468 - val_loss: 2.9517 - val_accuracy: 0.5301\n",
      "Epoch 4/4\n",
      "359/359 [==============================] - 65s 182ms/step - loss: 2.7295 - accuracy: 0.5471 - val_loss: 2.8110 - val_accuracy: 0.5301\n"
     ]
    }
   ],
   "source": [
    "history = model.fit(\n",
    "    train_generator,\n",
    "    epochs=4,  \n",
    "    validation_data=validation_generator\n",
    ")"
   ]
  },
  {
   "cell_type": "code",
   "execution_count": 18,
   "id": "e14b9550-0b00-4dbf-9b75-c49ce33a0cb4",
   "metadata": {},
   "outputs": [
    {
     "name": "stdout",
     "output_type": "stream",
     "text": [
      "Found 1122 validated image filenames.\n",
      "113/113 [==============================] - 11s 93ms/step\n",
      "Test Accuracy: 54.01%\n"
     ]
    }
   ],
   "source": [
    "test_datagen = tf.keras.preprocessing.image.ImageDataGenerator(rescale=1./255)\n",
    "\n",
    "test_generator = test_datagen.flow_from_dataframe(\n",
    "    dataframe=test_df,\n",
    "    directory=image_folder,\n",
    "    x_col=\"Image Index\",\n",
    "    y_col=\"Labels\",\n",
    "    target_size=(224, 224),\n",
    "    batch_size=10,  \n",
    "    class_mode=\"raw\",\n",
    "    shuffle=False \n",
    ")\n",
    "\n",
    "\n",
    "predictions = model.predict(test_generator)\n",
    "\n",
    "\n",
    "predicted_labels = np.argmax(predictions, axis=1)\n",
    "\n",
    "# Compare predicted labels with true labels\n",
    "accuracy = np.sum(predicted_labels == test_df['Labels'].values) / len(test_df)\n",
    "\n",
    "print(f\"Test Accuracy: {accuracy * 100:.2f}%\")"
   ]
  },
  {
   "cell_type": "code",
   "execution_count": 17,
   "id": "08474117-9875-4fd5-b066-d1d879c02485",
   "metadata": {},
   "outputs": [
    {
     "name": "stdout",
     "output_type": "stream",
     "text": [
      "113/113 [==============================] - 10s 91ms/step\n",
      "Example 1: True Class: No Finding, Predicted Class: No Finding\n",
      "Example 2: True Class: No Finding, Predicted Class: No Finding\n",
      "Example 3: True Class: Mass|Nodule, Predicted Class: No Finding\n",
      "Example 4: True Class: No Finding, Predicted Class: No Finding\n",
      "Example 5: True Class: Consolidation|Mass, Predicted Class: No Finding\n",
      "Example 6: True Class: No Finding, Predicted Class: No Finding\n",
      "Example 7: True Class: No Finding, Predicted Class: No Finding\n",
      "Example 8: True Class: Fibrosis, Predicted Class: No Finding\n",
      "Example 9: True Class: No Finding, Predicted Class: No Finding\n",
      "Example 10: True Class: No Finding, Predicted Class: No Finding\n",
      "Example 11: True Class: Infiltration, Predicted Class: No Finding\n",
      "Example 12: True Class: No Finding, Predicted Class: No Finding\n",
      "Example 13: True Class: No Finding, Predicted Class: No Finding\n",
      "Example 14: True Class: Infiltration, Predicted Class: No Finding\n",
      "Example 15: True Class: Atelectasis, Predicted Class: No Finding\n",
      "Example 16: True Class: Effusion|Infiltration, Predicted Class: No Finding\n",
      "Example 17: True Class: No Finding, Predicted Class: No Finding\n",
      "Example 18: True Class: Nodule, Predicted Class: No Finding\n",
      "Example 19: True Class: No Finding, Predicted Class: No Finding\n",
      "Example 20: True Class: No Finding, Predicted Class: No Finding\n",
      "Example 21: True Class: No Finding, Predicted Class: No Finding\n",
      "Example 22: True Class: Consolidation|Mass, Predicted Class: No Finding\n",
      "Example 23: True Class: No Finding, Predicted Class: No Finding\n",
      "Example 24: True Class: Nodule|Pneumothorax, Predicted Class: No Finding\n",
      "Example 25: True Class: Effusion, Predicted Class: No Finding\n",
      "Example 26: True Class: Infiltration, Predicted Class: No Finding\n",
      "Example 27: True Class: Infiltration, Predicted Class: No Finding\n",
      "Example 28: True Class: No Finding, Predicted Class: No Finding\n",
      "Example 29: True Class: Infiltration, Predicted Class: No Finding\n",
      "Example 30: True Class: Consolidation|Effusion|Pneumothorax, Predicted Class: No Finding\n",
      "Example 31: True Class: No Finding, Predicted Class: No Finding\n",
      "Example 32: True Class: No Finding, Predicted Class: No Finding\n",
      "Example 33: True Class: No Finding, Predicted Class: No Finding\n",
      "Example 34: True Class: No Finding, Predicted Class: No Finding\n",
      "Example 35: True Class: No Finding, Predicted Class: No Finding\n",
      "Example 36: True Class: Nodule, Predicted Class: No Finding\n",
      "Example 37: True Class: No Finding, Predicted Class: No Finding\n",
      "Example 38: True Class: No Finding, Predicted Class: No Finding\n",
      "Example 39: True Class: Nodule, Predicted Class: No Finding\n",
      "Example 40: True Class: Pneumothorax, Predicted Class: No Finding\n",
      "Example 41: True Class: No Finding, Predicted Class: No Finding\n",
      "Example 42: True Class: No Finding, Predicted Class: No Finding\n",
      "Example 43: True Class: No Finding, Predicted Class: No Finding\n",
      "Example 44: True Class: Atelectasis|Infiltration, Predicted Class: No Finding\n",
      "Example 45: True Class: Consolidation, Predicted Class: No Finding\n",
      "Example 46: True Class: No Finding, Predicted Class: No Finding\n",
      "Example 47: True Class: No Finding, Predicted Class: No Finding\n",
      "Example 48: True Class: Pneumothorax, Predicted Class: No Finding\n",
      "Example 49: True Class: Cardiomegaly|Effusion|Infiltration, Predicted Class: No Finding\n",
      "Example 50: True Class: No Finding, Predicted Class: No Finding\n",
      "Example 51: True Class: No Finding, Predicted Class: No Finding\n",
      "Example 52: True Class: No Finding, Predicted Class: No Finding\n",
      "Example 53: True Class: No Finding, Predicted Class: No Finding\n",
      "Example 54: True Class: Atelectasis|Infiltration, Predicted Class: No Finding\n",
      "Example 55: True Class: Infiltration, Predicted Class: No Finding\n",
      "Example 56: True Class: Effusion, Predicted Class: No Finding\n",
      "Example 57: True Class: Atelectasis|Effusion|Fibrosis, Predicted Class: No Finding\n",
      "Example 58: True Class: Edema|Effusion|Infiltration, Predicted Class: No Finding\n",
      "Example 59: True Class: No Finding, Predicted Class: No Finding\n",
      "Example 60: True Class: No Finding, Predicted Class: No Finding\n",
      "Example 61: True Class: No Finding, Predicted Class: No Finding\n",
      "Example 62: True Class: Cardiomegaly|Effusion, Predicted Class: No Finding\n",
      "Example 63: True Class: Consolidation|Infiltration|Pneumothorax, Predicted Class: No Finding\n",
      "Example 64: True Class: Atelectasis|Edema|Effusion|Pneumonia, Predicted Class: No Finding\n",
      "Example 65: True Class: Consolidation|Emphysema, Predicted Class: No Finding\n",
      "Example 66: True Class: Pneumothorax, Predicted Class: No Finding\n",
      "Example 67: True Class: No Finding, Predicted Class: No Finding\n",
      "Example 68: True Class: Atelectasis|Effusion, Predicted Class: No Finding\n",
      "Example 69: True Class: No Finding, Predicted Class: No Finding\n",
      "Example 70: True Class: No Finding, Predicted Class: No Finding\n",
      "Example 71: True Class: Infiltration, Predicted Class: No Finding\n",
      "Example 72: True Class: Infiltration, Predicted Class: No Finding\n",
      "Example 73: True Class: No Finding, Predicted Class: No Finding\n",
      "Example 74: True Class: No Finding, Predicted Class: No Finding\n",
      "Example 75: True Class: No Finding, Predicted Class: No Finding\n",
      "Example 76: True Class: Effusion, Predicted Class: No Finding\n",
      "Example 77: True Class: No Finding, Predicted Class: No Finding\n",
      "Example 78: True Class: No Finding, Predicted Class: No Finding\n",
      "Example 79: True Class: No Finding, Predicted Class: No Finding\n",
      "Example 80: True Class: Effusion, Predicted Class: No Finding\n",
      "Example 81: True Class: No Finding, Predicted Class: No Finding\n",
      "Example 82: True Class: No Finding, Predicted Class: No Finding\n",
      "Example 83: True Class: No Finding, Predicted Class: No Finding\n",
      "Example 84: True Class: Infiltration, Predicted Class: No Finding\n",
      "Example 85: True Class: No Finding, Predicted Class: No Finding\n",
      "Example 86: True Class: Nodule, Predicted Class: No Finding\n",
      "Example 87: True Class: Effusion, Predicted Class: No Finding\n",
      "Example 88: True Class: No Finding, Predicted Class: No Finding\n",
      "Example 89: True Class: Atelectasis, Predicted Class: No Finding\n",
      "Example 90: True Class: Effusion|Emphysema|Pleural_Thickening, Predicted Class: No Finding\n",
      "Example 91: True Class: No Finding, Predicted Class: No Finding\n",
      "Example 92: True Class: Infiltration, Predicted Class: No Finding\n",
      "Example 93: True Class: Consolidation|Infiltration|Mass, Predicted Class: No Finding\n",
      "Example 94: True Class: No Finding, Predicted Class: No Finding\n",
      "Example 95: True Class: Nodule, Predicted Class: No Finding\n",
      "Example 96: True Class: No Finding, Predicted Class: No Finding\n",
      "Example 97: True Class: Pneumothorax, Predicted Class: No Finding\n",
      "Example 98: True Class: No Finding, Predicted Class: No Finding\n",
      "Example 99: True Class: No Finding, Predicted Class: No Finding\n",
      "Example 100: True Class: No Finding, Predicted Class: No Finding\n",
      "54\n"
     ]
    }
   ],
   "source": [
    "predictions = model.predict(test_generator)\n",
    "predicted_labels = np.argmax(predictions, axis=1)\n",
    "count=0\n",
    "\n",
    "for i in range(100):\n",
    "    true_class = label_encoder.inverse_transform([test_df['Labels'].values[i]])[0]\n",
    "    predicted_class = label_encoder.inverse_transform([predicted_labels[i]])[0]\n",
    "    print(f\"Example {i+1}: True Class: {true_class}, Predicted Class: {predicted_class}\")\n",
    "    if(true_class==predicted_class):\n",
    "        count=count+1\n",
    "\n",
    "print(count)"
   ]
  },
  {
   "cell_type": "code",
   "execution_count": 4,
   "id": "23c6ad3b-4729-4202-ac58-ac5caf805ba8",
   "metadata": {},
   "outputs": [
    {
     "ename": "NameError",
     "evalue": "name 'model' is not defined",
     "output_type": "error",
     "traceback": [
      "\u001b[0;31m---------------------------------------------------------------------------\u001b[0m",
      "\u001b[0;31mNameError\u001b[0m                                 Traceback (most recent call last)",
      "Cell \u001b[0;32mIn[4], line 2\u001b[0m\n\u001b[1;32m      1\u001b[0m \u001b[38;5;28;01mfrom\u001b[39;00m \u001b[38;5;21;01mtensorflow\u001b[39;00m\u001b[38;5;21;01m.\u001b[39;00m\u001b[38;5;21;01mkeras\u001b[39;00m\u001b[38;5;21;01m.\u001b[39;00m\u001b[38;5;21;01mmodels\u001b[39;00m \u001b[38;5;28;01mimport\u001b[39;00m save_model\n\u001b[0;32m----> 2\u001b[0m model\u001b[38;5;241m.\u001b[39msave(\u001b[38;5;124m'\u001b[39m\u001b[38;5;124maayush_xray_classif.h5\u001b[39m\u001b[38;5;124m'\u001b[39m)\n",
      "\u001b[0;31mNameError\u001b[0m: name 'model' is not defined"
     ]
    }
   ],
   "source": [
    "from tensorflow.keras.models import save_model\n",
    "model.save('aayush_xray_classif.h5')"
   ]
  },
  {
   "cell_type": "code",
   "execution_count": 17,
   "id": "5e01e2a5-a550-4547-a452-d0d7dc8ca9be",
   "metadata": {},
   "outputs": [
    {
     "name": "stdout",
     "output_type": "stream",
     "text": [
      "Model: \"sequential\"\n",
      "_________________________________________________________________\n",
      " Layer (type)                Output Shape              Param #   \n",
      "=================================================================\n",
      " vgg16 (Functional)          (None, 7, 7, 512)         14714688  \n",
      "                                                                 \n",
      " flatten (Flatten)           (None, 25088)             0         \n",
      "                                                                 \n",
      " dense (Dense)               (None, 256)               6422784   \n",
      "                                                                 \n",
      " dropout (Dropout)           (None, 256)               0         \n",
      "                                                                 \n",
      " dense_1 (Dense)             (None, 244)               62708     \n",
      "                                                                 \n",
      "=================================================================\n",
      "Total params: 21200180 (80.87 MB)\n",
      "Trainable params: 6485492 (24.74 MB)\n",
      "Non-trainable params: 14714688 (56.13 MB)\n",
      "_________________________________________________________________\n"
     ]
    }
   ],
   "source": [
    "model.summary()"
   ]
  },
  {
   "cell_type": "code",
   "execution_count": 19,
   "id": "ac367275-d207-47f8-9d2f-b55fd553f88c",
   "metadata": {},
   "outputs": [],
   "source": [
    "from keras.models import model_from_json\n",
    "\n",
    "# Assuming your model is named 'model'\n",
    "model_json = model.to_json()\n",
    "with open(\"model_architecture.json\", \"w\") as json_file:\n",
    "    json_file.write(model_json)\n",
    "\n",
    "\n",
    "model.save_weights(\"model_weights.h5\")\n"
   ]
  },
  {
   "cell_type": "code",
   "execution_count": null,
   "id": "a910a773-636a-440a-90eb-14c534ca5a72",
   "metadata": {},
   "outputs": [],
   "source": []
  }
 ],
 "metadata": {
  "kernelspec": {
   "display_name": "Python (GPU)",
   "language": "python",
   "name": "base"
  },
  "language_info": {
   "codemirror_mode": {
    "name": "ipython",
    "version": 3
   },
   "file_extension": ".py",
   "mimetype": "text/x-python",
   "name": "python",
   "nbconvert_exporter": "python",
   "pygments_lexer": "ipython3",
   "version": "3.11.5"
  }
 },
 "nbformat": 4,
 "nbformat_minor": 5
}
