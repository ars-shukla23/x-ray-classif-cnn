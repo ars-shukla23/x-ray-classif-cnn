{
 "cells": [
  {
   "cell_type": "code",
   "execution_count": 11,
   "id": "d7b299f6-4f3a-4040-91d1-24d6fdb3bbd3",
   "metadata": {},
   "outputs": [],
   "source": [
    "import os\n",
    "import cv2\n",
    "import numpy as np\n",
    "import pandas as pd\n",
    "from sklearn.model_selection import train_test_split\n",
    "from sklearn.preprocessing import LabelEncoder\n",
    "from sklearn.utils import shuffle\n",
    "\n",
    "import tensorflow as tf\n",
    "from tensorflow.keras import layers, models\n",
    "import joblib"
   ]
  },
  {
   "cell_type": "code",
   "execution_count": 12,
   "id": "62549dbf-4389-450e-979f-cb67d967d9f8",
   "metadata": {},
   "outputs": [],
   "source": [
    "df = pd.read_csv('../Data/sample_labels.csv')\n",
    "df = df[['Image Index', 'Finding Labels']]\n",
    "df['Diseases'] = df['Finding Labels'].apply(lambda x: x.split('|'))\n",
    "#label_encoder = LabelEncoder()\n",
    "#df['Labels'] = label_encoder.fit_transform(df['Finding Labels'])\n",
    "#joblib.dump(label_encoder, 'label_encoder.joblib')\n"
   ]
  },
  {
   "cell_type": "code",
   "execution_count": 13,
   "id": "1ca9e7be-d7d4-451c-a952-3a69bd5a7a4d",
   "metadata": {},
   "outputs": [],
   "source": [
    "disease_columns = set([disease for diseases in df['Diseases'] for disease in diseases])\n",
    "for disease in disease_columns:\n",
    "    df[disease] = df['Diseases'].apply(lambda diseases: int(disease in diseases))\n"
   ]
  },
  {
   "cell_type": "code",
   "execution_count": 15,
   "id": "6e35a718-dd1f-414d-a539-4e0fbc5db526",
   "metadata": {},
   "outputs": [],
   "source": [
    "train_df, test_df = train_test_split(df, test_size=0.2, random_state=42)\n"
   ]
  },
  {
   "cell_type": "code",
   "execution_count": 16,
   "id": "6a1410ae-ef71-47c1-b8aa-365130916e74",
   "metadata": {},
   "outputs": [],
   "source": [
    "def load_and_preprocess_images(image_paths, labels):\n",
    "    images = []\n",
    "    for path, label in zip(image_paths, labels):\n",
    "        img = cv2.imread(path)\n",
    "        img = cv2.cvtColor(img, cv2.COLOR_BGR2RGB)\n",
    "        img = cv2.resize(img, (224, 224))\n",
    "        img = img / 255.0\n",
    "        images.append(img)\n",
    "    return np.array(images), labels\n"
   ]
  },
  {
   "cell_type": "code",
   "execution_count": 17,
   "id": "f660fac9-e3bd-47ff-96aa-b76bd63881f8",
   "metadata": {},
   "outputs": [],
   "source": [
    "def construct_image_paths(image_folder, image_indices):\n",
    "    return [os.path.join(image_folder, img) for img in image_indices]\n"
   ]
  },
  {
   "cell_type": "code",
   "execution_count": 18,
   "id": "8f77ef06-ced7-426d-b9a8-b454ba6c5b02",
   "metadata": {},
   "outputs": [],
   "source": [
    "image_folder = '../Data/images'\n",
    "\n",
    "train_image_paths = construct_image_paths(image_folder, train_df['Image Index'])\n",
    "test_image_paths = construct_image_paths(image_folder, test_df['Image Index'])\n"
   ]
  },
  {
   "cell_type": "code",
   "execution_count": 19,
   "id": "ec592f96-a0dc-46cb-bbea-f6e4868c9617",
   "metadata": {},
   "outputs": [],
   "source": [
    "train_datagen = tf.keras.preprocessing.image.ImageDataGenerator(\n",
    "    rescale=1./255,\n",
    "    shear_range=0.2,\n",
    "    zoom_range=0.2,\n",
    "    horizontal_flip=True,\n",
    "    validation_split=0.2\n",
    ")\n"
   ]
  },
  {
   "cell_type": "code",
   "execution_count": 22,
   "id": "c45bc538-40e8-404b-be84-824d7d5f151a",
   "metadata": {},
   "outputs": [
    {
     "name": "stdout",
     "output_type": "stream",
     "text": [
      "Found 3588 validated image filenames.\n"
     ]
    }
   ],
   "source": [
    "train_generator = train_datagen.flow_from_dataframe(\n",
    "    dataframe=train_df,\n",
    "    directory=image_folder,\n",
    "    x_col=\"Image Index\",\n",
    "    y_col=list(disease_columns),\n",
    "    target_size=(224, 224),\n",
    "    batch_size=10, \n",
    "    class_mode=\"raw\",\n",
    "    subset=\"training\"\n",
    ")"
   ]
  },
  {
   "cell_type": "code",
   "execution_count": 23,
   "id": "6d43dc42-e5fc-4103-bc33-37e16d1be34c",
   "metadata": {},
   "outputs": [
    {
     "name": "stdout",
     "output_type": "stream",
     "text": [
      "Found 896 validated image filenames.\n"
     ]
    }
   ],
   "source": [
    "validation_generator = train_datagen.flow_from_dataframe(\n",
    "    dataframe=train_df,\n",
    "    directory=image_folder,\n",
    "    x_col=\"Image Index\",\n",
    "    y_col=list(disease_columns),\n",
    "    target_size=(224, 224),\n",
    "    batch_size=10,  \n",
    "    class_mode=\"raw\",\n",
    "    subset=\"validation\"\n",
    ")"
   ]
  },
  {
   "cell_type": "code",
   "execution_count": 25,
   "id": "a9ac8acb-4b8e-47e7-bdde-cc33ac500bad",
   "metadata": {},
   "outputs": [],
   "source": [
    "base_model = tf.keras.applications.VGG16(weights='imagenet', include_top=False, input_shape=(224, 224, 3))\n"
   ]
  },
  {
   "cell_type": "code",
   "execution_count": 26,
   "id": "42734484-1d31-48ad-8dd1-b020664fb261",
   "metadata": {},
   "outputs": [],
   "source": [
    "for layer in base_model.layers:\n",
    "    layer.trainable = False\n"
   ]
  },
  {
   "cell_type": "code",
   "execution_count": 27,
   "id": "2a130f60-3b4f-436b-80c4-c961595ea670",
   "metadata": {},
   "outputs": [],
   "source": [
    "model = models.Sequential([\n",
    "    base_model,\n",
    "    layers.Flatten(),\n",
    "    layers.Dense(256, activation='relu'),\n",
    "    layers.Dropout(0.5),\n",
    "    layers.Dense(len(disease_columns), activation='sigmoid')\n",
    "])\n"
   ]
  },
  {
   "cell_type": "code",
   "execution_count": 28,
   "id": "06030c12-5a34-415a-9034-46b742bac1d6",
   "metadata": {},
   "outputs": [],
   "source": [
    "model.compile(optimizer='adam', loss='binary_crossentropy', metrics=['accuracy'])\n"
   ]
  },
  {
   "cell_type": "code",
   "execution_count": 29,
   "id": "5e845300-36a8-49ee-b5ce-004cbe62eb0a",
   "metadata": {},
   "outputs": [
    {
     "name": "stdout",
     "output_type": "stream",
     "text": [
      "Epoch 1/5\n"
     ]
    },
    {
     "name": "stderr",
     "output_type": "stream",
     "text": [
      "2023-12-12 05:01:36.600972: I external/local_xla/xla/stream_executor/cuda/cuda_dnn.cc:454] Loaded cuDNN version 8904\n",
      "2023-12-12 05:01:38.310293: I external/local_xla/xla/service/service.cc:168] XLA service 0x7fe1d5e53a10 initialized for platform CUDA (this does not guarantee that XLA will be used). Devices:\n",
      "2023-12-12 05:01:38.310315: I external/local_xla/xla/service/service.cc:176]   StreamExecutor device (0): NVIDIA GeForce RTX 4070, Compute Capability 8.9\n",
      "2023-12-12 05:01:38.318883: I tensorflow/compiler/mlir/tensorflow/utils/dump_mlir_util.cc:269] disabling MLIR crash reproducer, set env var `MLIR_CRASH_REPRODUCER_DIRECTORY` to enable.\n",
      "WARNING: All log messages before absl::InitializeLog() is called are written to STDERR\n",
      "I0000 00:00:1702337498.398380    7432 device_compiler.h:186] Compiled cluster using XLA!  This line is logged at most once for the lifetime of the process.\n"
     ]
    },
    {
     "name": "stdout",
     "output_type": "stream",
     "text": [
      "359/359 [==============================] - 70s 188ms/step - loss: 0.2829 - accuracy: 0.4624 - val_loss: 0.2112 - val_accuracy: 0.5301\n",
      "Epoch 2/5\n",
      "359/359 [==============================] - 63s 176ms/step - loss: 0.2395 - accuracy: 0.5432 - val_loss: 0.2325 - val_accuracy: 0.5301\n",
      "Epoch 3/5\n",
      "359/359 [==============================] - 63s 177ms/step - loss: 0.2371 - accuracy: 0.5471 - val_loss: 0.2128 - val_accuracy: 0.5301\n",
      "Epoch 4/5\n",
      "359/359 [==============================] - 64s 177ms/step - loss: 0.2321 - accuracy: 0.5468 - val_loss: 0.2162 - val_accuracy: 0.5301\n",
      "Epoch 5/5\n",
      "359/359 [==============================] - 63s 177ms/step - loss: 0.2279 - accuracy: 0.5471 - val_loss: 0.2121 - val_accuracy: 0.5301\n"
     ]
    }
   ],
   "source": [
    "history = model.fit(\n",
    "    train_generator,\n",
    "    epochs=5,  \n",
    "    validation_data=validation_generator\n",
    ")"
   ]
  },
  {
   "cell_type": "code",
   "execution_count": 35,
   "id": "08474117-9875-4fd5-b066-d1d879c02485",
   "metadata": {},
   "outputs": [
    {
     "name": "stdout",
     "output_type": "stream",
     "text": [
      "113/113 [==============================] - 10s 90ms/step\n",
      "Test Accuracy: 92.22%\n"
     ]
    }
   ],
   "source": [
    "predictions = model.predict(test_generator)\n",
    "binary_predictions = (predictions > 0.5).astype(int)\n",
    "\n",
    "correct_predictions = np.sum(binary_predictions == test_df[list(disease_columns)].values)\n",
    "\n",
    "accuracy = correct_predictions / (len(test_df) * len(disease_columns))\n",
    "\n",
    "print(f\"Test Accuracy: {accuracy * 100:.2f}%\")\n",
    "\n"
   ]
  },
  {
   "cell_type": "code",
   "execution_count": 36,
   "id": "23c6ad3b-4729-4202-ac58-ac5caf805ba8",
   "metadata": {},
   "outputs": [
    {
     "name": "stderr",
     "output_type": "stream",
     "text": [
      "/home/aayush/miniconda3/lib/python3.11/site-packages/keras/src/engine/training.py:3103: UserWarning: You are saving your model as an HDF5 file via `model.save()`. This file format is considered legacy. We recommend using instead the native Keras format, e.g. `model.save('my_model.keras')`.\n",
      "  saving_api.save_model(\n"
     ]
    }
   ],
   "source": [
    "from tensorflow.keras.models import save_model\n",
    "model.save('aayush_xray_classif_binary.h5')"
   ]
  },
  {
   "cell_type": "code",
   "execution_count": 37,
   "id": "5e01e2a5-a550-4547-a452-d0d7dc8ca9be",
   "metadata": {},
   "outputs": [
    {
     "name": "stdout",
     "output_type": "stream",
     "text": [
      "1/1 [==============================] - 0s 242ms/step\n",
      "Raw Probabilities: [[3.4135528e-02 1.7226899e-02 1.0381831e-02 4.3075107e-02 5.8828201e-02\n",
      "  5.3020085e-05 1.5780412e-01 1.4980943e-02 6.7475036e-02 6.1270541e-01\n",
      "  6.8680264e-02 1.1307931e-02 6.7990646e-03 1.4539596e-02 5.6821056e-02]]\n",
      "Binary Predictions: [[0 0 0 0 0 0 0 0 0 1 0 0 0 0 0]]\n"
     ]
    }
   ],
   "source": [
    "import cv2\n",
    "import numpy as np\n",
    "\n",
    "# Load and preprocess a single image\n",
    "def preprocess_single_image(image_path):\n",
    "    img = cv2.imread(image_path)\n",
    "    img = cv2.cvtColor(img, cv2.COLOR_BGR2RGB)\n",
    "    img = cv2.resize(img, (224, 224))\n",
    "    img = img / 255.0\n",
    "    img = np.expand_dims(img, axis=0) \n",
    "    return img\n",
    "\n",
    "\n",
    "image_path = '../presentation/00000030_001.png' \n",
    "processed_image = preprocess_single_image(image_path)\n",
    "\n",
    "\n",
    "predictions = model.predict(processed_image)\n",
    "\n",
    "\n",
    "binary_predictions = (predictions > 0.5).astype(int)\n",
    "\n",
    "\n",
    "print(\"Raw Probabilities:\", predictions)\n",
    "print(\"Binary Predictions:\", binary_predictions)\n"
   ]
  },
  {
   "cell_type": "code",
   "execution_count": 38,
   "id": "4982d4d7-6fc2-4b23-9478-0cbc471af20d",
   "metadata": {},
   "outputs": [
    {
     "name": "stdout",
     "output_type": "stream",
     "text": [
      "Predicted Diseases: ['Edema']\n"
     ]
    }
   ],
   "source": [
    "\n",
    "disease_mapping = {\n",
    "    0: 'Atelectasis',\n",
    "    1: 'Cardiomegaly',\n",
    "    2: 'Effusion',\n",
    "    3: 'Infiltration',\n",
    "    4: 'Mass',\n",
    "    5: 'Nodule',\n",
    "    6: 'Pneumonia',\n",
    "    7: 'Pneumothorax',\n",
    "    8: 'Consolidation',\n",
    "    9: 'Edema',\n",
    "    10: 'Emphysema',\n",
    "    11: 'Fibrosis',\n",
    "    12: 'Pleural_Thickening',\n",
    "    13: 'Hernia'\n",
    "}\n",
    "\n",
    "\n",
    "predicted_diseases = [disease_mapping[i] for i, pred in enumerate(binary_predictions[0]) if pred == 1]\n",
    "\n",
    "\n",
    "print(\"Predicted Diseases:\", predicted_diseases)\n"
   ]
  },
  {
   "cell_type": "code",
   "execution_count": null,
   "id": "f1cbb600-0d2b-473b-bbd8-b0a123abbba4",
   "metadata": {},
   "outputs": [],
   "source": []
  }
 ],
 "metadata": {
  "kernelspec": {
   "display_name": "Python (GPU)",
   "language": "python",
   "name": "base"
  },
  "language_info": {
   "codemirror_mode": {
    "name": "ipython",
    "version": 3
   },
   "file_extension": ".py",
   "mimetype": "text/x-python",
   "name": "python",
   "nbconvert_exporter": "python",
   "pygments_lexer": "ipython3",
   "version": "3.11.5"
  }
 },
 "nbformat": 4,
 "nbformat_minor": 5
}
